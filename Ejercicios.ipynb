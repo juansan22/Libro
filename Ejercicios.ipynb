{
  "nbformat": 4,
  "nbformat_minor": 0,
  "metadata": {
    "colab": {
      "provenance": [],
      "collapsed_sections": []
    },
    "kernelspec": {
      "name": "python3",
      "display_name": "Python 3"
    },
    "language_info": {
      "name": "python"
    }
  },
  "cells": [
    {
      "cell_type": "code",
      "execution_count": 6,
      "metadata": {
        "colab": {
          "base_uri": "https://localhost:8080/"
        },
        "id": "8Q4z1gX8RCiG",
        "outputId": "08012f11-54fb-4ccf-ec1a-ede5d68d0dd4"
      },
      "outputs": [
        {
          "output_type": "stream",
          "name": "stdout",
          "text": [
            "True\n",
            "False\n"
          ]
        }
      ],
      "source": [
        "#Escriba una función de Python que tome una secuencia de números y determine si todos los números son diferentes entre sí.\n",
        "def Diferencie_malparido (Davy):\n",
        "#def es un codigo que define una función, le da nombre. \n",
        "#Diferencie_malparido es el nombre arbitrario de la función a definir.\n",
        "#(data) es el argumento, se puede llamar arbitrariamente.\n",
        "#Por descubrir cuando van dos puntos y cuando no. \n",
        "#Por qué dentro del argumento pusimos \"Davy\" y no la secuencia de numeros. \n",
        "  if len(Davy) == len(set(Davy)):\n",
        "#If es un condicional\n",
        "#len cuenta el número de elementos de una secuencia \n",
        "#set es un conjunto de datos que no permite repetir, agregar o quitar elementos\n",
        "    return True\n",
        "#return es la instrucción de que arroje el resultado de aplicar la linea anterior\n",
        "  else:\n",
        "    return False\n",
        "print (Diferencie_malparido ([1,3,4,5,6]))\n",
        "#print es la ejecución \n",
        "print (Diferencie_malparido ([1,3,3,4,5,6]))"
      ]
    },
    {
      "cell_type": "code",
      "source": [
        " #Escriba un programa en Python para crear todas las cadenas posibles usando 'a', 'e', ​​'i', 'o', 'u'. Usa los caracteres exactamente\n",
        "fruta = 'banana'\n",
        "letra = fruta[1]"
      ],
      "metadata": {
        "id": "TysvRuraT5pP"
      },
      "execution_count": 8,
      "outputs": []
    }
  ]
}
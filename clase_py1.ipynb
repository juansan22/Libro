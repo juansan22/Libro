{
  "nbformat": 4,
  "nbformat_minor": 0,
  "metadata": {
    "colab": {
      "provenance": [],
      "toc_visible": true
    },
    "kernelspec": {
      "name": "python3",
      "display_name": "Python 3"
    },
    "language_info": {
      "name": "python"
    }
  },
  "cells": [
    {
      "cell_type": "markdown",
      "source": [
        "## Clase 1 python\n",
        "## Variables y funciones\n",
        "### variables 1\n",
        "### variables 2\n",
        "### variables 3\n",
        "### variables 4\n",
        "### Ejercicios\n"
      ],
      "metadata": {
        "id": "KQJoYlm6QXFq"
      }
    },
    {
      "cell_type": "code",
      "execution_count": null,
      "metadata": {
        "colab": {
          "base_uri": "https://localhost:8080/"
        },
        "id": "g58LR-jVQKkq",
        "outputId": "8cd442e6-7ee7-4d96-ff85-1f003de102e1"
      },
      "outputs": [
        {
          "output_type": "stream",
          "name": "stdout",
          "text": [
            "Jose\n",
            "jose cardenas\n"
          ]
        }
      ],
      "source": [
        "#Varibles de cadenas de texto\n",
        "\"\"\"\n",
        "las cadenas de texto son la manera como Python entiende los textos y con este podemos hacer y crear diferentes fformatos y metodos:\n",
        " \"\"\"\n",
        "# nombre_variable = contenido_variable\n",
        "nombre1 = 'Juan'\n",
        "nombre2 = 'Santiago'\n",
        "nombre3 = 'Jose'\n",
        "nombre4 = 'laura'\n",
        "nombre5 = 'fito'\n",
        "\n",
        "print(nombre3)\n",
        "nombre3 = 'jose cardenas'\n",
        "print(nombre3)"
      ]
    },
    {
      "cell_type": "code",
      "source": [
        "def Diferencie_malparido (data):\n",
        "#Por descubrir cuando van dos puntos y cuando no. \n",
        "#Por qué dentro del argumento pusimos \"Data\" y no la secuencia de numeros. \n",
        "  if len(data) == len(set(data)):\n",
        "    return True\n",
        "  else:\n",
        "    return False\n",
        "print (Diferencie_malparido ([1,3,4,5,6]))\n"
      ],
      "metadata": {
        "colab": {
          "base_uri": "https://localhost:8080/"
        },
        "id": "L_9PlOBGN4_9",
        "outputId": "7183d8ab-c366-4a53-fc64-4e347999219e"
      },
      "execution_count": 18,
      "outputs": [
        {
          "output_type": "stream",
          "name": "stdout",
          "text": [
            "True\n"
          ]
        }
      ]
    },
    {
      "cell_type": "code",
      "source": [
        "\"\"\"\n",
        "El metodo de f en  cadenas me permite mezclar texto y variables. como lo hago? lo hago a traves de {}\n",
        "\"\"\"\n",
        "\n",
        "nombre1 = nombre1.lower()\n",
        "print(f'{nombre1} y {nombre3} se conocen hace mucho tiempo')\n"
      ],
      "metadata": {
        "colab": {
          "base_uri": "https://localhost:8080/"
        },
        "id": "Q20Ur_1kS904",
        "outputId": "be464506-a83a-4e63-927e-03eb3e36c10d"
      },
      "execution_count": null,
      "outputs": [
        {
          "output_type": "stream",
          "name": "stdout",
          "text": [
            "juan y jose cardenas se conocen hace mucho tiempo\n"
          ]
        }
      ]
    },
    {
      "cell_type": "code",
      "source": [
        "#Vamos a construir la primera funcion:\n",
        "\n",
        "\"\"\"\n",
        "Que son las funciones en python? son pedazos de codigo que ejecutan una tarea que necesito que se haga varias veces.\n",
        "\n",
        "def nombre_funcion(argumentos de funcion):\n",
        "  que hace mi funcion\n",
        "\"\"\"\n",
        "\n",
        "def amigos_de_juan(nombre):\n",
        "  print(f'Juan y {nombre} se conocen hace mucho tiempo')\n",
        "\n",
        "lista_amigos_de_juan = [nombre1,nombre2,nombre3,nombre4,nombre5]\n",
        "\n",
        "for amigo in lista_amigos_de_juan:\n",
        "  amigos_de_juan(amigo)"
      ],
      "metadata": {
        "colab": {
          "base_uri": "https://localhost:8080/"
        },
        "id": "0GcYvZsTVMpe",
        "outputId": "00b230fa-c25d-41f4-8d1c-e7a75e8b1e39"
      },
      "execution_count": null,
      "outputs": [
        {
          "output_type": "stream",
          "name": "stdout",
          "text": [
            "Juan y juan se conocen hace mucho tiempo\n",
            "Juan y Santiago se conocen hace mucho tiempo\n",
            "Juan y jose cardenas se conocen hace mucho tiempo\n",
            "Juan y laura se conocen hace mucho tiempo\n",
            "Juan y fito se conocen hace mucho tiempo\n"
          ]
        }
      ]
    },
    {
      "cell_type": "code",
      "source": [
        "def amigos(nombrex,  nombrey):\n",
        "  print(f'{nombrex} y {nombrey} se conocen hace mucho tiempo')\n",
        "\n",
        "lista_amigos = (nombre1,nombre2,nombre3,nombre4,nombre5)\n",
        "\n",
        "for amigo1 in lista_amigos:\n",
        "  for amigo2 in lista_amigos:\n",
        "    amigos(amigo1, amigo2)"
      ],
      "metadata": {
        "colab": {
          "base_uri": "https://localhost:8080/"
        },
        "id": "xIsKeCmOWntl",
        "outputId": "af336dda-a46f-4229-967c-c5a0a8cfff60"
      },
      "execution_count": null,
      "outputs": [
        {
          "output_type": "stream",
          "name": "stdout",
          "text": [
            "juan y juan se conocen hace mucho tiempo\n",
            "juan y Santiago se conocen hace mucho tiempo\n",
            "juan y jose cardenas se conocen hace mucho tiempo\n",
            "juan y laura se conocen hace mucho tiempo\n",
            "juan y fito se conocen hace mucho tiempo\n",
            "Santiago y juan se conocen hace mucho tiempo\n",
            "Santiago y Santiago se conocen hace mucho tiempo\n",
            "Santiago y jose cardenas se conocen hace mucho tiempo\n",
            "Santiago y laura se conocen hace mucho tiempo\n",
            "Santiago y fito se conocen hace mucho tiempo\n",
            "jose cardenas y juan se conocen hace mucho tiempo\n",
            "jose cardenas y Santiago se conocen hace mucho tiempo\n",
            "jose cardenas y jose cardenas se conocen hace mucho tiempo\n",
            "jose cardenas y laura se conocen hace mucho tiempo\n",
            "jose cardenas y fito se conocen hace mucho tiempo\n",
            "laura y juan se conocen hace mucho tiempo\n",
            "laura y Santiago se conocen hace mucho tiempo\n",
            "laura y jose cardenas se conocen hace mucho tiempo\n",
            "laura y laura se conocen hace mucho tiempo\n",
            "laura y fito se conocen hace mucho tiempo\n",
            "fito y juan se conocen hace mucho tiempo\n",
            "fito y Santiago se conocen hace mucho tiempo\n",
            "fito y jose cardenas se conocen hace mucho tiempo\n",
            "fito y laura se conocen hace mucho tiempo\n",
            "fito y fito se conocen hace mucho tiempo\n"
          ]
        }
      ]
    },
    {
      "cell_type": "code",
      "source": [
        "lista_amigos = (nombre1,nombre2,nombre3,nombre4,nombre5, 1, 'Santiago', 1)\n",
        "print(type(lista_amigos[-1]))\n",
        "lista_amigos = {nombre1,nombre2,nombre3,nombre4,nombre5, 1, 'Santiago', 1}\n",
        "print(lista_amigos)\n",
        "lista_amigos = [nombre1,nombre2,nombre3,nombre4,nombre5, 1]\n",
        "lista_amigos.append('Penelope')\n",
        "print(type(lista_amigos[-1]))"
      ],
      "metadata": {
        "colab": {
          "base_uri": "https://localhost:8080/"
        },
        "id": "1VirtBTAYQeg",
        "outputId": "a8c5c94d-483f-439d-ae52-27479e9b3d92"
      },
      "execution_count": null,
      "outputs": [
        {
          "output_type": "stream",
          "name": "stdout",
          "text": [
            "<class 'int'>\n",
            "{1, 'Santiago', 'juan', 'laura', 'jose cardenas', 'fito'}\n",
            "<class 'str'>\n"
          ]
        }
      ]
    }
  ]
}